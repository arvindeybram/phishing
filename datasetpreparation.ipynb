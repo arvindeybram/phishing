{
 "cells": [
  {
   "cell_type": "code",
   "execution_count": 1,
   "metadata": {
    "collapsed": true
   },
   "outputs": [],
   "source": [
    "import pandas as pd\n",
    "from io import StringIO"
   ]
  },
  {
   "cell_type": "code",
   "execution_count": 2,
   "metadata": {
    "collapsed": true
   },
   "outputs": [],
   "source": [
    "alexa = pd.read_csv(\"alexa.csv\")"
   ]
  },
  {
   "cell_type": "code",
   "execution_count": 3,
   "metadata": {
    "collapsed": true
   },
   "outputs": [],
   "source": [
    "alexa = alexa.drop(['Unnamed: 0'], axis=1)\n",
    "k=[]\n",
    "for i in alexa.URL:\n",
    "    if \"http\" not in i:\n",
    "        i= \"https://www.\"+i\n",
    "        k.append(i)\n",
    "    else:\n",
    "        k.append(i)\n",
    "alexa = pd.DataFrame({'URL':k})\n",
    "alexa['Label'] = 0\n"
   ]
  },
  {
   "cell_type": "code",
   "execution_count": 4,
   "metadata": {},
   "outputs": [
    {
     "data": {
      "text/html": [
       "<div>\n",
       "<style>\n",
       "    .dataframe thead tr:only-child th {\n",
       "        text-align: right;\n",
       "    }\n",
       "\n",
       "    .dataframe thead th {\n",
       "        text-align: left;\n",
       "    }\n",
       "\n",
       "    .dataframe tbody tr th {\n",
       "        vertical-align: top;\n",
       "    }\n",
       "</style>\n",
       "<table border=\"1\" class=\"dataframe\">\n",
       "  <thead>\n",
       "    <tr style=\"text-align: right;\">\n",
       "      <th></th>\n",
       "      <th>URL</th>\n",
       "      <th>Label</th>\n",
       "    </tr>\n",
       "  </thead>\n",
       "  <tbody>\n",
       "    <tr>\n",
       "      <th>0</th>\n",
       "      <td>https://www.google.com</td>\n",
       "      <td>0</td>\n",
       "    </tr>\n",
       "    <tr>\n",
       "      <th>1</th>\n",
       "      <td>https://www.youtube.com</td>\n",
       "      <td>0</td>\n",
       "    </tr>\n",
       "    <tr>\n",
       "      <th>2</th>\n",
       "      <td>https://www.facebook.com</td>\n",
       "      <td>0</td>\n",
       "    </tr>\n",
       "    <tr>\n",
       "      <th>3</th>\n",
       "      <td>https://www.baidu.com</td>\n",
       "      <td>0</td>\n",
       "    </tr>\n",
       "    <tr>\n",
       "      <th>4</th>\n",
       "      <td>https://www.wikipedia.org</td>\n",
       "      <td>0</td>\n",
       "    </tr>\n",
       "  </tbody>\n",
       "</table>\n",
       "</div>"
      ],
      "text/plain": [
       "                         URL  Label\n",
       "0     https://www.google.com      0\n",
       "1    https://www.youtube.com      0\n",
       "2   https://www.facebook.com      0\n",
       "3      https://www.baidu.com      0\n",
       "4  https://www.wikipedia.org      0"
      ]
     },
     "execution_count": 4,
     "metadata": {},
     "output_type": "execute_result"
    }
   ],
   "source": [
    "alexa.head()"
   ]
  },
  {
   "cell_type": "code",
   "execution_count": 5,
   "metadata": {
    "collapsed": true
   },
   "outputs": [],
   "source": [
    "#https://www.webseoanddesign.com/parental-controls-bad-word-listnsfw/"
   ]
  },
  {
   "cell_type": "code",
   "execution_count": 6,
   "metadata": {},
   "outputs": [],
   "source": [
    "#filtering adult content\n",
    "alexa = alexa[alexa.URL.str.contains(\"xvideo\") == False]  \n",
    "alexa = alexa[alexa.URL.str.contains(\"adult\") == False]  \n",
    "alexa = alexa[alexa.URL.str.contains(\"gay\") == False]  \n",
    "alexa = alexa[alexa.URL.str.contains(\"lesbian\") == False]  \n",
    "alexa = alexa[alexa.URL.str.contains(\"xx\") == False] \n",
    "alexa = alexa[alexa.URL.str.contains(\"x\") == False] \n",
    "alexa = alexa[alexa.URL.str.contains(\"XX\") == False]  \n",
    "alexa = alexa[alexa.URL.str.contains(\"porn\") == False]  \n",
    "alexa = alexa[alexa.URL.str.contains(\"hub\") == False]  \n",
    "alexa = alexa[alexa.URL.str.contains(\"boob\") == False]  \n",
    "alexa = alexa[alexa.URL.str.contains(\"cum\") == False]  \n",
    "alexa = alexa[alexa.URL.str.contains(\"hole\") == False]  \n",
    "alexa = alexa[alexa.URL.str.contains(\"wet\") == False]  \n",
    "alexa = alexa[alexa.URL.str.contains(\"wank\") == False]  \n",
    "alexa = alexa[alexa.URL.str.contains(\"tit\") == False]  \n",
    "alexa = alexa[alexa.URL.str.contains(\"testicle\") == False]\n",
    "alexa = alexa[alexa.URL.str.contains(\"poop\") == False]  \n",
    "alexa = alexa[alexa.URL.str.contains(\"fuck\") == False]  \n",
    "alexa = alexa[alexa.URL.str.contains(\"suck\") == False]  \n",
    "alexa = alexa[alexa.URL.str.contains(\"dick\") == False]  \n",
    "alexa = alexa[alexa.URL.str.contains(\"spank\") == False]  \n",
    "alexa = alexa[alexa.URL.str.contains(\"69\") == False]  \n",
    "alexa = alexa[alexa.URL.str.contains(\"cock\") == False]  \n",
    "alexa = alexa[alexa.URL.str.contains(\"dildo\") == False]  \n",
    "alexa = alexa[alexa.URL.str.contains(\"b00b\") == False]  \n",
    "alexa = alexa[alexa.URL.str.contains(\"orgy\") == False]  \n",
    "alexa = alexa[alexa.URL.str.contains(\"orga\") == False]  \n",
    "alexa = alexa[alexa.URL.str.contains(\"breast\") == False]  \n",
    "alexa = alexa[alexa.URL.str.contains(\"lock\") == False]  \n",
    "alexa = alexa[alexa.URL.str.contains(\"whore\") == False]  \n",
    "alexa = alexa[alexa.URL.str.contains(\"slut\") == False]\n",
    "alexa = alexa[alexa.URL.str.contains(\"milf\") == False]  \n",
    "alexa = alexa[alexa.URL.str.contains(\"petite\") == False]  \n",
    "alexa = alexa[alexa.URL.str.contains(\"interratial\") == False]  \n",
    "alexa = alexa[alexa.URL.str.contains(\"pussy\") == False]  \n",
    "alexa = alexa[alexa.URL.str.contains(\"nigg\") == False]  \n",
    "alexa = alexa[alexa.URL.str.contains(\"anus\") == False]  \n",
    "alexa = alexa[alexa.URL.str.contains(\"anal\") == False]  \n",
    "alexa = alexa[alexa.URL.str.contains(\"fuk\") == False]  \n",
    "alexa = alexa[alexa.URL.str.contains(\"blow\") == False]  \n",
    "alexa = alexa[alexa.URL.str.contains(\"sex\") == False]  \n",
    "alexa = alexa[alexa.URL.str.contains(\"bitch\") == False]  \n",
    "alexa = alexa[alexa.URL.str.contains(\"pole\") == False]  \n",
    "alexa = alexa[alexa.URL.str.contains(\"stick\") == False]  \n",
    "alexa = alexa[alexa.URL.str.contains(\"bondage\") == False]  \n",
    "alexa = alexa[alexa.URL.str.contains(\"bdsm\") == False]  "
   ]
  },
  {
   "cell_type": "code",
   "execution_count": 7,
   "metadata": {},
   "outputs": [
    {
     "data": {
      "text/plain": [
       "919791"
      ]
     },
     "execution_count": 7,
     "metadata": {},
     "output_type": "execute_result"
    }
   ],
   "source": [
    "alexa.to_csv(\"ben.csv\", encoding='utf-8', index=False)\n",
    "len(alexa.URL)"
   ]
  },
  {
   "cell_type": "code",
   "execution_count": 8,
   "metadata": {
    "collapsed": true
   },
   "outputs": [],
   "source": [
    "phishtank = pd.read_csv(\"phishtank.csv\")\n",
    "phishtank = phishtank.drop(['phish_id', 'phish_detail_url','submission_time','verified','online','verification_time','target'], axis=1)\n",
    "phishtank.head()\n",
    "phishtank  = phishtank.rename(index=str, columns={\"url\": \"URL\"})\n",
    "phishtank['Label'] = 1"
   ]
  },
  {
   "cell_type": "code",
   "execution_count": 9,
   "metadata": {},
   "outputs": [
    {
     "data": {
      "text/html": [
       "<div>\n",
       "<style>\n",
       "    .dataframe thead tr:only-child th {\n",
       "        text-align: right;\n",
       "    }\n",
       "\n",
       "    .dataframe thead th {\n",
       "        text-align: left;\n",
       "    }\n",
       "\n",
       "    .dataframe tbody tr th {\n",
       "        vertical-align: top;\n",
       "    }\n",
       "</style>\n",
       "<table border=\"1\" class=\"dataframe\">\n",
       "  <thead>\n",
       "    <tr style=\"text-align: right;\">\n",
       "      <th></th>\n",
       "      <th>URL</th>\n",
       "      <th>Label</th>\n",
       "    </tr>\n",
       "  </thead>\n",
       "  <tbody>\n",
       "    <tr>\n",
       "      <th>0</th>\n",
       "      <td>http://www.lineac.cn/</td>\n",
       "      <td>1</td>\n",
       "    </tr>\n",
       "    <tr>\n",
       "      <th>1</th>\n",
       "      <td>http://www.soradtt.com/werinkolss/</td>\n",
       "      <td>1</td>\n",
       "    </tr>\n",
       "    <tr>\n",
       "      <th>2</th>\n",
       "      <td>http://irs.tax.gov.customercare.3206250713.tax...</td>\n",
       "      <td>1</td>\n",
       "    </tr>\n",
       "    <tr>\n",
       "      <th>3</th>\n",
       "      <td>http://taxi956.ru/irs/</td>\n",
       "      <td>1</td>\n",
       "    </tr>\n",
       "    <tr>\n",
       "      <th>4</th>\n",
       "      <td>https://mankyousam.info/lil/att/attiinnddeexx.php</td>\n",
       "      <td>1</td>\n",
       "    </tr>\n",
       "  </tbody>\n",
       "</table>\n",
       "</div>"
      ],
      "text/plain": [
       "                                                 URL  Label\n",
       "0                              http://www.lineac.cn/      1\n",
       "1                 http://www.soradtt.com/werinkolss/      1\n",
       "2  http://irs.tax.gov.customercare.3206250713.tax...      1\n",
       "3                             http://taxi956.ru/irs/      1\n",
       "4  https://mankyousam.info/lil/att/attiinnddeexx.php      1"
      ]
     },
     "execution_count": 9,
     "metadata": {},
     "output_type": "execute_result"
    }
   ],
   "source": [
    "phishtank.head()"
   ]
  },
  {
   "cell_type": "code",
   "execution_count": 10,
   "metadata": {
    "collapsed": true
   },
   "outputs": [],
   "source": [
    "#p[\"Label\"]=0"
   ]
  },
  {
   "cell_type": "code",
   "execution_count": 11,
   "metadata": {
    "collapsed": true
   },
   "outputs": [],
   "source": [
    "#p.to_csv(\"Phish1.csv\", encoding='utf-8', index=False)"
   ]
  },
  {
   "cell_type": "code",
   "execution_count": 12,
   "metadata": {
    "collapsed": true
   },
   "outputs": [],
   "source": [
    "#df = pd.DataFrame({'URL':newset})"
   ]
  },
  {
   "cell_type": "code",
   "execution_count": 13,
   "metadata": {},
   "outputs": [],
   "source": [
    "result = phishtank.append(alexa[:50000])"
   ]
  },
  {
   "cell_type": "code",
   "execution_count": 14,
   "metadata": {},
   "outputs": [
    {
     "data": {
      "text/html": [
       "<div>\n",
       "<style>\n",
       "    .dataframe thead tr:only-child th {\n",
       "        text-align: right;\n",
       "    }\n",
       "\n",
       "    .dataframe thead th {\n",
       "        text-align: left;\n",
       "    }\n",
       "\n",
       "    .dataframe tbody tr th {\n",
       "        vertical-align: top;\n",
       "    }\n",
       "</style>\n",
       "<table border=\"1\" class=\"dataframe\">\n",
       "  <thead>\n",
       "    <tr style=\"text-align: right;\">\n",
       "      <th></th>\n",
       "      <th>URL</th>\n",
       "      <th>Label</th>\n",
       "    </tr>\n",
       "  </thead>\n",
       "  <tbody>\n",
       "    <tr>\n",
       "      <th>0</th>\n",
       "      <td>http://www.lineac.cn/</td>\n",
       "      <td>1</td>\n",
       "    </tr>\n",
       "    <tr>\n",
       "      <th>1</th>\n",
       "      <td>http://www.soradtt.com/werinkolss/</td>\n",
       "      <td>1</td>\n",
       "    </tr>\n",
       "    <tr>\n",
       "      <th>2</th>\n",
       "      <td>http://irs.tax.gov.customercare.3206250713.tax...</td>\n",
       "      <td>1</td>\n",
       "    </tr>\n",
       "    <tr>\n",
       "      <th>3</th>\n",
       "      <td>http://taxi956.ru/irs/</td>\n",
       "      <td>1</td>\n",
       "    </tr>\n",
       "    <tr>\n",
       "      <th>4</th>\n",
       "      <td>https://mankyousam.info/lil/att/attiinnddeexx.php</td>\n",
       "      <td>1</td>\n",
       "    </tr>\n",
       "  </tbody>\n",
       "</table>\n",
       "</div>"
      ],
      "text/plain": [
       "                                                 URL  Label\n",
       "0                              http://www.lineac.cn/      1\n",
       "1                 http://www.soradtt.com/werinkolss/      1\n",
       "2  http://irs.tax.gov.customercare.3206250713.tax...      1\n",
       "3                             http://taxi956.ru/irs/      1\n",
       "4  https://mankyousam.info/lil/att/attiinnddeexx.php      1"
      ]
     },
     "execution_count": 14,
     "metadata": {},
     "output_type": "execute_result"
    }
   ],
   "source": [
    "result.head()"
   ]
  },
  {
   "cell_type": "code",
   "execution_count": 15,
   "metadata": {},
   "outputs": [
    {
     "data": {
      "text/html": [
       "<div>\n",
       "<style>\n",
       "    .dataframe thead tr:only-child th {\n",
       "        text-align: right;\n",
       "    }\n",
       "\n",
       "    .dataframe thead th {\n",
       "        text-align: left;\n",
       "    }\n",
       "\n",
       "    .dataframe tbody tr th {\n",
       "        vertical-align: top;\n",
       "    }\n",
       "</style>\n",
       "<table border=\"1\" class=\"dataframe\">\n",
       "  <thead>\n",
       "    <tr style=\"text-align: right;\">\n",
       "      <th></th>\n",
       "      <th>URL</th>\n",
       "      <th>Label</th>\n",
       "    </tr>\n",
       "  </thead>\n",
       "  <tbody>\n",
       "    <tr>\n",
       "      <th>54913</th>\n",
       "      <td>https://www.tocka.com.mk</td>\n",
       "      <td>0</td>\n",
       "    </tr>\n",
       "    <tr>\n",
       "      <th>54914</th>\n",
       "      <td>https://www.film-like.com</td>\n",
       "      <td>0</td>\n",
       "    </tr>\n",
       "    <tr>\n",
       "      <th>54915</th>\n",
       "      <td>https://www.gamesofpc.com</td>\n",
       "      <td>0</td>\n",
       "    </tr>\n",
       "    <tr>\n",
       "      <th>54917</th>\n",
       "      <td>https://www.clatterans.com</td>\n",
       "      <td>0</td>\n",
       "    </tr>\n",
       "    <tr>\n",
       "      <th>54918</th>\n",
       "      <td>https://www.impraise.com</td>\n",
       "      <td>0</td>\n",
       "    </tr>\n",
       "  </tbody>\n",
       "</table>\n",
       "</div>"
      ],
      "text/plain": [
       "                              URL  Label\n",
       "54913    https://www.tocka.com.mk      0\n",
       "54914   https://www.film-like.com      0\n",
       "54915   https://www.gamesofpc.com      0\n",
       "54917  https://www.clatterans.com      0\n",
       "54918    https://www.impraise.com      0"
      ]
     },
     "execution_count": 15,
     "metadata": {},
     "output_type": "execute_result"
    }
   ],
   "source": [
    "result.tail()"
   ]
  },
  {
   "cell_type": "code",
   "execution_count": 16,
   "metadata": {},
   "outputs": [
    {
     "data": {
      "text/plain": [
       "82239"
      ]
     },
     "execution_count": 16,
     "metadata": {},
     "output_type": "execute_result"
    }
   ],
   "source": [
    "len(result)"
   ]
  },
  {
   "cell_type": "code",
   "execution_count": 17,
   "metadata": {
    "collapsed": true
   },
   "outputs": [],
   "source": [
    "#result = phi.append(ben)"
   ]
  },
  {
   "cell_type": "code",
   "execution_count": 18,
   "metadata": {
    "collapsed": true
   },
   "outputs": [],
   "source": [
    "#result.to_csv(\"Dataset.csv\",encoding='utf-8', index=False)"
   ]
  },
  {
   "cell_type": "code",
   "execution_count": 20,
   "metadata": {},
   "outputs": [
    {
     "data": {
      "text/plain": [
       "0"
      ]
     },
     "execution_count": 20,
     "metadata": {},
     "output_type": "execute_result"
    }
   ],
   "source": [
    "len(urllength)"
   ]
  },
  {
   "cell_type": "code",
   "execution_count": 21,
   "metadata": {
    "collapsed": true
   },
   "outputs": [],
   "source": [
    "result.to_csv(\"Dataset.csv\",encoding='utf-8', index=False)"
   ]
  },
  {
   "cell_type": "code",
   "execution_count": 22,
   "metadata": {
    "collapsed": true
   },
   "outputs": [],
   "source": [
    "#import re\n",
    "#p = []\n",
    "#for i in ko.url:\n",
    "#    i=re.sub('Label', '', i)\n",
    "#    p.append(i)"
   ]
  },
  {
   "cell_type": "code",
   "execution_count": 23,
   "metadata": {
    "collapsed": true
   },
   "outputs": [],
   "source": [
    "lol = pd.read_csv(\"Dataset.csv\")"
   ]
  },
  {
   "cell_type": "code",
   "execution_count": 24,
   "metadata": {
    "collapsed": true
   },
   "outputs": [],
   "source": [
    "len(lol)\n",
    "import re\n"
   ]
  },
  {
   "cell_type": "code",
   "execution_count": 25,
   "metadata": {},
   "outputs": [
    {
     "data": {
      "text/html": [
       "<div>\n",
       "<style>\n",
       "    .dataframe thead tr:only-child th {\n",
       "        text-align: right;\n",
       "    }\n",
       "\n",
       "    .dataframe thead th {\n",
       "        text-align: left;\n",
       "    }\n",
       "\n",
       "    .dataframe tbody tr th {\n",
       "        vertical-align: top;\n",
       "    }\n",
       "</style>\n",
       "<table border=\"1\" class=\"dataframe\">\n",
       "  <thead>\n",
       "    <tr style=\"text-align: right;\">\n",
       "      <th></th>\n",
       "      <th>URL</th>\n",
       "      <th>Label</th>\n",
       "    </tr>\n",
       "  </thead>\n",
       "  <tbody>\n",
       "    <tr>\n",
       "      <th>82234</th>\n",
       "      <td>https://www.tocka.com.mk</td>\n",
       "      <td>0</td>\n",
       "    </tr>\n",
       "    <tr>\n",
       "      <th>82235</th>\n",
       "      <td>https://www.film-like.com</td>\n",
       "      <td>0</td>\n",
       "    </tr>\n",
       "    <tr>\n",
       "      <th>82236</th>\n",
       "      <td>https://www.gamesofpc.com</td>\n",
       "      <td>0</td>\n",
       "    </tr>\n",
       "    <tr>\n",
       "      <th>82237</th>\n",
       "      <td>https://www.clatterans.com</td>\n",
       "      <td>0</td>\n",
       "    </tr>\n",
       "    <tr>\n",
       "      <th>82238</th>\n",
       "      <td>https://www.impraise.com</td>\n",
       "      <td>0</td>\n",
       "    </tr>\n",
       "  </tbody>\n",
       "</table>\n",
       "</div>"
      ],
      "text/plain": [
       "                              URL  Label\n",
       "82234    https://www.tocka.com.mk      0\n",
       "82235   https://www.film-like.com      0\n",
       "82236   https://www.gamesofpc.com      0\n",
       "82237  https://www.clatterans.com      0\n",
       "82238    https://www.impraise.com      0"
      ]
     },
     "execution_count": 25,
     "metadata": {},
     "output_type": "execute_result"
    }
   ],
   "source": [
    "lol.tail()"
   ]
  },
  {
   "cell_type": "code",
   "execution_count": 26,
   "metadata": {
    "collapsed": true
   },
   "outputs": [],
   "source": [
    "urllength = []\n",
    "nodots = []\n",
    "numberofdigits = []\n",
    "specialsymbols = []\n",
    "\n",
    "for i in lol.URL:\n",
    "    numbers = 0\n",
    "    \n",
    "    urllength.append(len(i))\n",
    "    \n",
    "    dotcount=i.count(\".\")\n",
    "    nodots.append(dotcount)\n",
    "    \n",
    "    numbers = sum(c.isdigit() for c in i)\n",
    "    numberofdigits.append(numbers)\n",
    "    \n",
    "    new = re.sub('[\\w]+' ,'', i)\n",
    "    specialsymbols.append(len(new)-dotcount)"
   ]
  },
  {
   "cell_type": "code",
   "execution_count": 27,
   "metadata": {
    "collapsed": true
   },
   "outputs": [],
   "source": [
    "#lol = pd.DataFrame({'SpecialSymbols':specialsymbols})"
   ]
  },
  {
   "cell_type": "code",
   "execution_count": 30,
   "metadata": {
    "collapsed": true
   },
   "outputs": [],
   "source": [
    "lol['SpecialSymbols'] = specialsymbols\n",
    "lol['LengthofUrl'] = urllength\n",
    "lol['DigitsInUrl'] = numberofdigits\n",
    "lol['DotsInUrl'] = nodots"
   ]
  },
  {
   "cell_type": "code",
   "execution_count": 31,
   "metadata": {},
   "outputs": [
    {
     "data": {
      "text/html": [
       "<div>\n",
       "<style>\n",
       "    .dataframe thead tr:only-child th {\n",
       "        text-align: right;\n",
       "    }\n",
       "\n",
       "    .dataframe thead th {\n",
       "        text-align: left;\n",
       "    }\n",
       "\n",
       "    .dataframe tbody tr th {\n",
       "        vertical-align: top;\n",
       "    }\n",
       "</style>\n",
       "<table border=\"1\" class=\"dataframe\">\n",
       "  <thead>\n",
       "    <tr style=\"text-align: right;\">\n",
       "      <th></th>\n",
       "      <th>URL</th>\n",
       "      <th>Label</th>\n",
       "      <th>SpecialSymbols</th>\n",
       "      <th>LengthofUrl</th>\n",
       "      <th>DigitsInUrl</th>\n",
       "      <th>DotsInUrl</th>\n",
       "    </tr>\n",
       "  </thead>\n",
       "  <tbody>\n",
       "    <tr>\n",
       "      <th>0</th>\n",
       "      <td>http://www.lineac.cn/</td>\n",
       "      <td>1</td>\n",
       "      <td>4</td>\n",
       "      <td>21</td>\n",
       "      <td>0</td>\n",
       "      <td>2</td>\n",
       "    </tr>\n",
       "    <tr>\n",
       "      <th>1</th>\n",
       "      <td>http://www.soradtt.com/werinkolss/</td>\n",
       "      <td>1</td>\n",
       "      <td>5</td>\n",
       "      <td>34</td>\n",
       "      <td>0</td>\n",
       "      <td>2</td>\n",
       "    </tr>\n",
       "    <tr>\n",
       "      <th>2</th>\n",
       "      <td>http://irs.tax.gov.customercare.3206250713.tax...</td>\n",
       "      <td>1</td>\n",
       "      <td>5</td>\n",
       "      <td>95</td>\n",
       "      <td>12</td>\n",
       "      <td>10</td>\n",
       "    </tr>\n",
       "    <tr>\n",
       "      <th>3</th>\n",
       "      <td>http://taxi956.ru/irs/</td>\n",
       "      <td>1</td>\n",
       "      <td>5</td>\n",
       "      <td>22</td>\n",
       "      <td>3</td>\n",
       "      <td>1</td>\n",
       "    </tr>\n",
       "    <tr>\n",
       "      <th>4</th>\n",
       "      <td>https://mankyousam.info/lil/att/attiinnddeexx.php</td>\n",
       "      <td>1</td>\n",
       "      <td>6</td>\n",
       "      <td>49</td>\n",
       "      <td>0</td>\n",
       "      <td>2</td>\n",
       "    </tr>\n",
       "  </tbody>\n",
       "</table>\n",
       "</div>"
      ],
      "text/plain": [
       "                                                 URL  Label  SpecialSymbols  \\\n",
       "0                              http://www.lineac.cn/      1               4   \n",
       "1                 http://www.soradtt.com/werinkolss/      1               5   \n",
       "2  http://irs.tax.gov.customercare.3206250713.tax...      1               5   \n",
       "3                             http://taxi956.ru/irs/      1               5   \n",
       "4  https://mankyousam.info/lil/att/attiinnddeexx.php      1               6   \n",
       "\n",
       "   LengthofUrl  DigitsInUrl  DotsInUrl  \n",
       "0           21            0          2  \n",
       "1           34            0          2  \n",
       "2           95           12         10  \n",
       "3           22            3          1  \n",
       "4           49            0          2  "
      ]
     },
     "execution_count": 31,
     "metadata": {},
     "output_type": "execute_result"
    }
   ],
   "source": [
    "lol.head()"
   ]
  },
  {
   "cell_type": "code",
   "execution_count": 32,
   "metadata": {
    "collapsed": true
   },
   "outputs": [],
   "source": [
    "lol.to_csv(\"NewDataset1.csv\", encoding='utf-8', index=False)"
   ]
  },
  {
   "cell_type": "code",
   "execution_count": null,
   "metadata": {
    "collapsed": true
   },
   "outputs": [],
   "source": []
  },
  {
   "cell_type": "code",
   "execution_count": 33,
   "metadata": {
    "collapsed": true
   },
   "outputs": [],
   "source": [
    "jojo = pd.read_csv(\"NewDataset1.csv\")"
   ]
  },
  {
   "cell_type": "code",
   "execution_count": 34,
   "metadata": {},
   "outputs": [
    {
     "data": {
      "text/html": [
       "<div>\n",
       "<style>\n",
       "    .dataframe thead tr:only-child th {\n",
       "        text-align: right;\n",
       "    }\n",
       "\n",
       "    .dataframe thead th {\n",
       "        text-align: left;\n",
       "    }\n",
       "\n",
       "    .dataframe tbody tr th {\n",
       "        vertical-align: top;\n",
       "    }\n",
       "</style>\n",
       "<table border=\"1\" class=\"dataframe\">\n",
       "  <thead>\n",
       "    <tr style=\"text-align: right;\">\n",
       "      <th></th>\n",
       "      <th>URL</th>\n",
       "      <th>Label</th>\n",
       "      <th>SpecialSymbols</th>\n",
       "      <th>LengthofUrl</th>\n",
       "      <th>DigitsInUrl</th>\n",
       "      <th>DotsInUrl</th>\n",
       "    </tr>\n",
       "  </thead>\n",
       "  <tbody>\n",
       "    <tr>\n",
       "      <th>82234</th>\n",
       "      <td>https://www.tocka.com.mk</td>\n",
       "      <td>0</td>\n",
       "      <td>3</td>\n",
       "      <td>24</td>\n",
       "      <td>0</td>\n",
       "      <td>3</td>\n",
       "    </tr>\n",
       "    <tr>\n",
       "      <th>82235</th>\n",
       "      <td>https://www.film-like.com</td>\n",
       "      <td>0</td>\n",
       "      <td>4</td>\n",
       "      <td>25</td>\n",
       "      <td>0</td>\n",
       "      <td>2</td>\n",
       "    </tr>\n",
       "    <tr>\n",
       "      <th>82236</th>\n",
       "      <td>https://www.gamesofpc.com</td>\n",
       "      <td>0</td>\n",
       "      <td>3</td>\n",
       "      <td>25</td>\n",
       "      <td>0</td>\n",
       "      <td>2</td>\n",
       "    </tr>\n",
       "    <tr>\n",
       "      <th>82237</th>\n",
       "      <td>https://www.clatterans.com</td>\n",
       "      <td>0</td>\n",
       "      <td>3</td>\n",
       "      <td>26</td>\n",
       "      <td>0</td>\n",
       "      <td>2</td>\n",
       "    </tr>\n",
       "    <tr>\n",
       "      <th>82238</th>\n",
       "      <td>https://www.impraise.com</td>\n",
       "      <td>0</td>\n",
       "      <td>3</td>\n",
       "      <td>24</td>\n",
       "      <td>0</td>\n",
       "      <td>2</td>\n",
       "    </tr>\n",
       "  </tbody>\n",
       "</table>\n",
       "</div>"
      ],
      "text/plain": [
       "                              URL  Label  SpecialSymbols  LengthofUrl  \\\n",
       "82234    https://www.tocka.com.mk      0               3           24   \n",
       "82235   https://www.film-like.com      0               4           25   \n",
       "82236   https://www.gamesofpc.com      0               3           25   \n",
       "82237  https://www.clatterans.com      0               3           26   \n",
       "82238    https://www.impraise.com      0               3           24   \n",
       "\n",
       "       DigitsInUrl  DotsInUrl  \n",
       "82234            0          3  \n",
       "82235            0          2  \n",
       "82236            0          2  \n",
       "82237            0          2  \n",
       "82238            0          2  "
      ]
     },
     "execution_count": 34,
     "metadata": {},
     "output_type": "execute_result"
    }
   ],
   "source": [
    "jojo.tail()"
   ]
  },
  {
   "cell_type": "code",
   "execution_count": null,
   "metadata": {},
   "outputs": [],
   "source": [
    "\"\"\"\n",
    "alpha = []\n",
    "vowels = []\n",
    "consonants = []\n",
    "vcount = 0\n",
    "ccount = 0\n",
    "vow = [\"a\",\"e\",\"i\",\"o\",\"u\"]\n",
    "for i in jojo.URL:\n",
    "    i = i.lower()\n",
    "    for j in i:\n",
    "        if j in vow:\n",
    "            vcount+=1\n",
    "    alp = sum(c.isalpha() for c in i)\n",
    "    alpha.append(alp)\n",
    "    vowel.append(vcount)\n",
    "    consonant.append(alp-vcount)\n",
    "    print (alp)\n",
    "    print (vowel)\n",
    "    print (consonant)\n",
    "\"\"\""
   ]
  },
  {
   "cell_type": "code",
   "execution_count": null,
   "metadata": {
    "collapsed": true
   },
   "outputs": [],
   "source": []
  },
  {
   "cell_type": "code",
   "execution_count": null,
   "metadata": {
    "collapsed": true
   },
   "outputs": [],
   "source": []
  },
  {
   "cell_type": "code",
   "execution_count": null,
   "metadata": {
    "collapsed": true
   },
   "outputs": [],
   "source": [
    "\"\"\"\n",
    "Alphabets = pd.DataFrame({'Alphabets':alpha})\n",
    "Vowels = pd.DataFrame({'Vowel':vowel})\n",
    "Consonants = pd.DataFrame({'Consonant':consonant}) \n",
    "\"\"\""
   ]
  },
  {
   "cell_type": "code",
   "execution_count": null,
   "metadata": {},
   "outputs": [],
   "source": [
    "\"\"\"\n",
    "jojo['Vowels'] = Vowels\n",
    "jojo['Alphabets'] = Alphabets\n",
    "jojo['Consonants'] = Consonants\"\"\""
   ]
  },
  {
   "cell_type": "code",
   "execution_count": null,
   "metadata": {},
   "outputs": [],
   "source": []
  },
  {
   "cell_type": "code",
   "execution_count": null,
   "metadata": {},
   "outputs": [],
   "source": []
  },
  {
   "cell_type": "code",
   "execution_count": null,
   "metadata": {
    "collapsed": true
   },
   "outputs": [],
   "source": []
  },
  {
   "cell_type": "code",
   "execution_count": null,
   "metadata": {
    "collapsed": true
   },
   "outputs": [],
   "source": []
  },
  {
   "cell_type": "code",
   "execution_count": null,
   "metadata": {
    "collapsed": true
   },
   "outputs": [],
   "source": []
  },
  {
   "cell_type": "code",
   "execution_count": null,
   "metadata": {
    "collapsed": true
   },
   "outputs": [],
   "source": []
  },
  {
   "cell_type": "code",
   "execution_count": null,
   "metadata": {
    "collapsed": true
   },
   "outputs": [],
   "source": []
  }
 ],
 "metadata": {
  "kernelspec": {
   "display_name": "Python 3",
   "language": "python",
   "name": "python3"
  },
  "language_info": {
   "codemirror_mode": {
    "name": "ipython",
    "version": 3
   },
   "file_extension": ".py",
   "mimetype": "text/x-python",
   "name": "python",
   "nbconvert_exporter": "python",
   "pygments_lexer": "ipython3",
   "version": "3.6.3"
  }
 },
 "nbformat": 4,
 "nbformat_minor": 2
}
